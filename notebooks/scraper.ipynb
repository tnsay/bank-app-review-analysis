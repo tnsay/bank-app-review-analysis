{
 "cells": [
  {
   "cell_type": "code",
   "execution_count": 1,
   "id": "d9e067f4",
   "metadata": {},
   "outputs": [
    {
     "name": "stdout",
     "output_type": "stream",
     "text": [
      "bank\n",
      "Commercial Bank of Ethiopia    7509\n",
      "Bank of Abyssinia              1045\n",
      "Dashen Bank                     454\n",
      "Name: count, dtype: int64\n",
      "Total reviews collected: 9008\n"
     ]
    }
   ],
   "source": [
    "from google_play_scraper import reviews_all\n",
    "import pandas as pd\n",
    "\n",
    "apps = {\n",
    "    \"Commercial Bank of Ethiopia\": \"com.combanketh.mobilebanking\",\n",
    "\t\"Bank of Abyssinia\": \"com.boa.boaMobileBanking\",\n",
    "    \"Dashen Bank\": \"com.dashen.dashensuperapp\"\n",
    "\t}\n",
    "\t\n",
    "all_reviews = []\n",
    "\n",
    "for bank, app_id in apps.items():\n",
    "\treviews = reviews_all(app_id, lang='en', count=1500)\n",
    "\tfor r in reviews:\n",
    "\t        all_reviews.append({\n",
    "            'review': r['content'],\n",
    "\t            'rating': r['score'],\n",
    "            'date': r['at'].date(),\n",
    "            'bank': bank,\n",
    "            'source': 'Google Play'\n",
    "     })\n",
    "df = pd.DataFrame(all_reviews)\n",
    "df.to_csv(\"../data/raw_reviews.csv\", index=False)\n",
    "\n",
    "print(df['bank'].value_counts())\n",
    "total_rows = df.shape[0]\n",
    "print(f\"Total reviews collected: {len(df)}\")\n"
   ]
  },
  {
   "cell_type": "code",
   "execution_count": 2,
   "id": "01a7f2f4",
   "metadata": {},
   "outputs": [
    {
     "name": "stdout",
     "output_type": "stream",
     "text": [
      "7\n",
      "% Missing Data: 0.00%\n",
      "Cleaned review count: 6832\n",
      "\n",
      "Missing values:\n",
      " review    0\n",
      "rating    0\n",
      "date      0\n",
      "bank      0\n",
      "source    0\n",
      "dtype: int64\n",
      "\n",
      "Bank count:\n",
      " bank\n",
      "Commercial Bank of Ethiopia    5531\n",
      "Bank of Abyssinia               890\n",
      "Dashen Bank                     411\n",
      "Name: count, dtype: int64\n",
      "% Missing Data Removed: 24.01%\n",
      "                                              review  rating        date  \\\n",
      "0  . Reviewing content on Play is a great way to ...       5  2025-06-10   \n",
      "1                         So bad now and hard to use       5  2025-06-09   \n",
      "2  it is so amazing app. but, it is better to upd...       5  2025-06-09   \n",
      "3                                         v.good app       4  2025-06-09   \n",
      "4                                      very good app       1  2025-06-09   \n",
      "\n",
      "                          bank       source  \n",
      "0  Commercial Bank of Ethiopia  Google Play  \n",
      "1  Commercial Bank of Ethiopia  Google Play  \n",
      "2  Commercial Bank of Ethiopia  Google Play  \n",
      "3  Commercial Bank of Ethiopia  Google Play  \n",
      "4  Commercial Bank of Ethiopia  Google Play  \n"
     ]
    }
   ],
   "source": [
    "df = pd.read_csv(\"../data/raw_reviews.csv\")\n",
    "\n",
    "print(df['review'].isna().sum())\n",
    "\n",
    "original_len = len(df)\n",
    "\n",
    "# Drop rows where review is null or empty string\n",
    "df['review'] = df['review'].astype(str).str.strip()\n",
    "df = df[df['review'].notnull() & (df['review'] != '')]\n",
    "\n",
    "removed_pct = (1 - len(df)/original_len) * 100\n",
    "print(f\"% Missing Data: {removed_pct:.2f}%\")\n",
    "\n",
    "# Drop duplicates\n",
    "df.drop_duplicates(subset=['bank', 'review'], inplace=True)\n",
    "\n",
    "# Normalize date\n",
    "df['date'] = pd.to_datetime(df['date']).dt.strftime('%Y-%m-%d')\n",
    "\n",
    "# Save clean file\n",
    "df.to_csv(\"../data/cleaned_reviews.csv\", index=False)\n",
    "\n",
    "# Summary\n",
    "print(f\"Cleaned review count: {len(df)}\")\n",
    "print(\"\\nMissing values:\\n\", df.isnull().sum())\n",
    "print(\"\\nBank count:\\n\", df['bank'].value_counts())\n",
    "\n",
    "missing_ratio = (1 - len(df) / 8991) * 100\n",
    "print(f\"% Missing Data Removed: {missing_ratio:.2f}%\")\n",
    "print(df.head())"
   ]
  }
 ],
 "metadata": {
  "kernelspec": {
   "display_name": "venv",
   "language": "python",
   "name": "python3"
  },
  "language_info": {
   "codemirror_mode": {
    "name": "ipython",
    "version": 3
   },
   "file_extension": ".py",
   "mimetype": "text/x-python",
   "name": "python",
   "nbconvert_exporter": "python",
   "pygments_lexer": "ipython3",
   "version": "3.13.3"
  }
 },
 "nbformat": 4,
 "nbformat_minor": 5
}
