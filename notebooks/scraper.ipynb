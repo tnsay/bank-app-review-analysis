{
 "cells": [
  {
   "cell_type": "code",
   "execution_count": 1,
   "id": "d9e067f4",
   "metadata": {},
   "outputs": [
    {
     "name": "stdout",
     "output_type": "stream",
     "text": [
      "bank\n",
      "Commercial Bank of Ethiopia    7500\n",
      "Bank of Abyssinia              1044\n",
      "Dashen Bank                     449\n",
      "Name: count, dtype: int64\n",
      "Total reviews collected: 8993\n"
     ]
    }
   ],
   "source": [
    "from google_play_scraper import reviews_all\n",
    "import pandas as pd\n",
    "\n",
    "apps = {\n",
    "    \"Commercial Bank of Ethiopia\": \"com.combanketh.mobilebanking\",\n",
    "\t\"Bank of Abyssinia\": \"com.boa.boaMobileBanking\",\n",
    "    \"Dashen Bank\": \"com.dashen.dashensuperapp\"\n",
    "\t}\n",
    "\t\n",
    "all_reviews = []\n",
    "\n",
    "for bank, app_id in apps.items():\n",
    "\treviews = reviews_all(app_id, lang='en', count=1500)\n",
    "\tfor r in reviews:\n",
    "\t        all_reviews.append({\n",
    "            'review': r['content'],\n",
    "\t            'rating': r['score'],\n",
    "            'date': r['at'].date(),\n",
    "            'bank': bank,\n",
    "            'source': 'Google Play'\n",
    "     })\n",
    "df = pd.DataFrame(all_reviews)\n",
    "df.to_csv(\"../data/raw_reviews.csv\", index=False)\n",
    "\n",
    "print(df['bank'].value_counts())\n",
    "total_rows = df.shape[0]\n",
    "print(f\"Total reviews collected: {len(df)}\")\n"
   ]
  },
  {
   "cell_type": "code",
   "execution_count": 2,
   "id": "01a7f2f4",
   "metadata": {},
   "outputs": [
    {
     "name": "stdout",
     "output_type": "stream",
     "text": [
      "% Missing Data: 0.00%\n",
      "Cleaned review count: 6673\n",
      "\n",
      "Missing values:\n",
      " review    0\n",
      "rating    0\n",
      "date      0\n",
      "bank      0\n",
      "source    0\n",
      "dtype: int64\n",
      "\n",
      "Bank count:\n",
      " bank\n",
      "Commercial Bank of Ethiopia    5524\n",
      "Bank of Abyssinia               786\n",
      "Dashen Bank                     363\n",
      "Name: count, dtype: int64\n",
      "% Missing Data Removed: 25.78%\n",
      "                                              review  rating        date  \\\n",
      "0  really am happy to this app it is Siple to use...       5  2025-06-07   \n",
      "1  I liked this app. But the User interface is ve...       2  2025-06-07   \n",
      "2  \"Why don’t your ATMs support account-to-accoun...       4  2025-06-06   \n",
      "3                        what is this app problem???       1  2025-06-05   \n",
      "4       the app is proactive and a good connections.       5  2025-06-05   \n",
      "\n",
      "                          bank       source  \n",
      "0  Commercial Bank of Ethiopia  Google Play  \n",
      "1  Commercial Bank of Ethiopia  Google Play  \n",
      "2  Commercial Bank of Ethiopia  Google Play  \n",
      "3  Commercial Bank of Ethiopia  Google Play  \n",
      "4  Commercial Bank of Ethiopia  Google Play  \n"
     ]
    }
   ],
   "source": [
    "df = pd.read_csv(\"../data/raw_reviews.csv\")\n",
    "\n",
    "original_len = len(df)\n",
    "\n",
    "# Drop rows where review is null or empty string\n",
    "df['review'] = df['review'].astype(str).str.strip()\n",
    "df = df[df['review'].notnull() & (df['review'] != '')]\n",
    "\n",
    "removed_pct = (1 - len(df)/original_len) * 100\n",
    "print(f\"% Missing Data: {removed_pct:.2f}%\")\n",
    "\n",
    "# Drop duplicates\n",
    "df.drop_duplicates(subset='review', inplace=True)\n",
    "\n",
    "# Normalize date\n",
    "df['date'] = pd.to_datetime(df['date']).dt.strftime('%Y-%m-%d')\n",
    "\n",
    "# Save clean file\n",
    "df.to_csv(\"../data/cleaned_reviews.csv\", index=False)\n",
    "\n",
    "# Summary\n",
    "print(f\"Cleaned review count: {len(df)}\")\n",
    "print(\"\\nMissing values:\\n\", df.isnull().sum())\n",
    "print(\"\\nBank count:\\n\", df['bank'].value_counts())\n",
    "\n",
    "missing_ratio = (1 - len(df) / 8991) * 100\n",
    "print(f\"% Missing Data Removed: {missing_ratio:.2f}%\")\n",
    "print(df.head())"
   ]
  }
 ],
 "metadata": {
  "kernelspec": {
   "display_name": "venv",
   "language": "python",
   "name": "python3"
  },
  "language_info": {
   "codemirror_mode": {
    "name": "ipython",
    "version": 3
   },
   "file_extension": ".py",
   "mimetype": "text/x-python",
   "name": "python",
   "nbconvert_exporter": "python",
   "pygments_lexer": "ipython3",
   "version": "3.13.3"
  }
 },
 "nbformat": 4,
 "nbformat_minor": 5
}
