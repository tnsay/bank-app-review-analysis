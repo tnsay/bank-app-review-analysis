{
 "cells": [
  {
   "cell_type": "markdown",
   "id": "ccefc8af",
   "metadata": {},
   "source": [
    "#Sentiment & Thematic Analysis"
   ]
  },
  {
   "cell_type": "code",
   "execution_count": 15,
   "id": "99df2add",
   "metadata": {},
   "outputs": [
    {
     "data": {
      "text/html": [
       "<div>\n",
       "<style scoped>\n",
       "    .dataframe tbody tr th:only-of-type {\n",
       "        vertical-align: middle;\n",
       "    }\n",
       "\n",
       "    .dataframe tbody tr th {\n",
       "        vertical-align: top;\n",
       "    }\n",
       "\n",
       "    .dataframe thead th {\n",
       "        text-align: right;\n",
       "    }\n",
       "</style>\n",
       "<table border=\"1\" class=\"dataframe\">\n",
       "  <thead>\n",
       "    <tr style=\"text-align: right;\">\n",
       "      <th></th>\n",
       "      <th>review</th>\n",
       "      <th>rating</th>\n",
       "      <th>date</th>\n",
       "      <th>bank</th>\n",
       "      <th>source</th>\n",
       "    </tr>\n",
       "  </thead>\n",
       "  <tbody>\n",
       "    <tr>\n",
       "      <th>0</th>\n",
       "      <td>. Reviewing content on Play is a great way to ...</td>\n",
       "      <td>5</td>\n",
       "      <td>2025-06-10</td>\n",
       "      <td>Commercial Bank of Ethiopia</td>\n",
       "      <td>Google Play</td>\n",
       "    </tr>\n",
       "    <tr>\n",
       "      <th>1</th>\n",
       "      <td>So bad now and hard to use</td>\n",
       "      <td>5</td>\n",
       "      <td>2025-06-09</td>\n",
       "      <td>Commercial Bank of Ethiopia</td>\n",
       "      <td>Google Play</td>\n",
       "    </tr>\n",
       "    <tr>\n",
       "      <th>2</th>\n",
       "      <td>it is so amazing app. but, it is better to upd...</td>\n",
       "      <td>5</td>\n",
       "      <td>2025-06-09</td>\n",
       "      <td>Commercial Bank of Ethiopia</td>\n",
       "      <td>Google Play</td>\n",
       "    </tr>\n",
       "    <tr>\n",
       "      <th>3</th>\n",
       "      <td>v.good app</td>\n",
       "      <td>4</td>\n",
       "      <td>2025-06-09</td>\n",
       "      <td>Commercial Bank of Ethiopia</td>\n",
       "      <td>Google Play</td>\n",
       "    </tr>\n",
       "    <tr>\n",
       "      <th>4</th>\n",
       "      <td>very good app</td>\n",
       "      <td>1</td>\n",
       "      <td>2025-06-09</td>\n",
       "      <td>Commercial Bank of Ethiopia</td>\n",
       "      <td>Google Play</td>\n",
       "    </tr>\n",
       "  </tbody>\n",
       "</table>\n",
       "</div>"
      ],
      "text/plain": [
       "                                              review  rating        date  \\\n",
       "0  . Reviewing content on Play is a great way to ...       5  2025-06-10   \n",
       "1                         So bad now and hard to use       5  2025-06-09   \n",
       "2  it is so amazing app. but, it is better to upd...       5  2025-06-09   \n",
       "3                                         v.good app       4  2025-06-09   \n",
       "4                                      very good app       1  2025-06-09   \n",
       "\n",
       "                          bank       source  \n",
       "0  Commercial Bank of Ethiopia  Google Play  \n",
       "1  Commercial Bank of Ethiopia  Google Play  \n",
       "2  Commercial Bank of Ethiopia  Google Play  \n",
       "3  Commercial Bank of Ethiopia  Google Play  \n",
       "4  Commercial Bank of Ethiopia  Google Play  "
      ]
     },
     "execution_count": 15,
     "metadata": {},
     "output_type": "execute_result"
    }
   ],
   "source": [
    "import pandas as pd\n",
    "import re\n",
    "from textblob import TextBlob\n",
    "import spacy\n",
    "from sklearn.feature_extraction.text import TfidfVectorizer\n",
    "from transformers import pipeline\n",
    "\n",
    "# Load spaCy English model\n",
    "nlp = spacy.load(\"en_core_web_sm\")\n",
    "\n",
    "# Load cleaned review data\n",
    "df = pd.read_csv('../data/cleaned_reviews.csv')\n",
    "df.head()\n"
   ]
  },
  {
   "cell_type": "code",
   "execution_count": 16,
   "id": "4636d235",
   "metadata": {},
   "outputs": [
    {
     "name": "stdout",
     "output_type": "stream",
     "text": [
      "is_amharic\n",
      "False    6484\n",
      "True      348\n",
      "Name: count, dtype: int64\n"
     ]
    }
   ],
   "source": [
    "#Language Check (Amharic vs English)\n",
    "def is_amharic(text):\n",
    "    return bool(re.search(r'[\\u1200-\\u137F]', str(text)))\n",
    "\n",
    "df['is_amharic'] = df['review'].apply(is_amharic)\n",
    "print(df['is_amharic'].value_counts())"
   ]
  },
  {
   "cell_type": "code",
   "execution_count": 20,
   "id": "9b4b8858",
   "metadata": {},
   "outputs": [
    {
     "name": "stdout",
     "output_type": "stream",
     "text": [
      "                                              review  rating sentiment  \\\n",
      "0  . Reviewing content on Play is a great way to ...       5  Positive   \n",
      "1                         So bad now and hard to use       5  Negative   \n",
      "2  it is so amazing app. but, it is better to upd...       5  Positive   \n",
      "3                                         v.good app       4  Positive   \n",
      "4                                      very good app       1  Positive   \n",
      "\n",
      "   sentiment_score  \n",
      "0         0.491667  \n",
      "1        -0.495833  \n",
      "2         0.300000  \n",
      "3         0.000000  \n",
      "4         0.910000  \n"
     ]
    }
   ],
   "source": [
    "# hybrid sentiment analysis\n",
    "def hybrid_sentiment(text, rating=None):\n",
    "    text = str(text)\n",
    "    if is_amharic(text):\n",
    "        text = text.replace('።', ' ').replace('፣', ' ')  # normalize punctuation\n",
    "        if any(word in text for word in ['አልሰራም', 'ችግር', 'አይሰራም', 'አልተሳካም', 'ተቋርጧል']):\n",
    "            return 'Negative'\n",
    "        elif any(word in text for word in ['ጥሩ', 'ጎበዝ', 'አሪፍ', 'በጣም ጥሩ', 'አሪፍ ነው']):\n",
    "            return 'Positive'\n",
    "        else:\n",
    "            return 'Neutral'\n",
    "    # English handling    \n",
    "    polarity = TextBlob(text).sentiment.polarity\n",
    "    # Prioritize strong polarity over rating--challenge1\n",
    "    if polarity > 0.4:\n",
    "        return 'Positive'\n",
    "    elif polarity < -0.4:\n",
    "        return 'Negative'\n",
    "    elif rating:\n",
    "        try:\n",
    "            rating = float(rating)\n",
    "            if rating >= 4:\n",
    "                return 'Positive'\n",
    "            elif rating <= 2:\n",
    "                return 'Negative'\n",
    "        except:\n",
    "            pass\n",
    "\n",
    "    return 'Neutral'\n",
    "#apply to dataFrame, sentiment label\n",
    "df['sentiment'] = df.apply(lambda row: hybrid_sentiment(row['review'], row['rating']), axis=1)\n",
    "\n",
    "df['sentiment_score'] = df.apply(\n",
    "    lambda row: TextBlob(str(row['review'])).sentiment.polarity if not row['is_amharic'] else None,\n",
    "    axis=1\n",
    ")\n",
    "#check\n",
    "print(df[['review', 'rating', 'sentiment', 'sentiment_score']].head())\n"
   ]
  },
  {
   "cell_type": "code",
   "execution_count": 21,
   "id": "7b71d604",
   "metadata": {},
   "outputs": [
    {
     "name": "stderr",
     "output_type": "stream",
     "text": [
      "Device set to use cpu\n"
     ]
    },
    {
     "name": "stdout",
     "output_type": "stream",
     "text": [
      "                                              review bert_sentiment  \\\n",
      "0  . Reviewing content on Play is a great way to ...       POSITIVE   \n",
      "1                         So bad now and hard to use       NEGATIVE   \n",
      "2  it is so amazing app. but, it is better to upd...       POSITIVE   \n",
      "3                                         v.good app       POSITIVE   \n",
      "4                                      very good app       POSITIVE   \n",
      "\n",
      "   bert_score  \n",
      "0    0.999597  \n",
      "1    0.999806  \n",
      "2    0.949643  \n",
      "3    0.995270  \n",
      "4    0.999868  \n"
     ]
    }
   ],
   "source": [
    "#BERT Sentiment Classification\n",
    "# Load pretrained BERT model for sentiment\n",
    "sentiment_pipeline = pipeline(\"sentiment-analysis\", model=\"distilbert-base-uncased-finetuned-sst-2-english\")\n",
    "\n",
    "def get_bert_sentiment(text):\n",
    "    text = str(text)[:512]  # BERT input limit\n",
    "    result = sentiment_pipeline(text)[0]\n",
    "    return result['label'], result['score']\n",
    "#apply to all\n",
    "bert_results = df['review'].apply(get_bert_sentiment)\n",
    "df['bert_sentiment'], df['bert_score'] = zip(*bert_results)\n",
    "\n",
    "print(df[['review', 'bert_sentiment', 'bert_score']].head())\n"
   ]
  },
  {
   "cell_type": "code",
   "execution_count": 28,
   "id": "bf241b7f",
   "metadata": {},
   "outputs": [],
   "source": [
    "#Preprocessing for Thematic Analysis\n",
    "def preprocess(text):\n",
    "    text = str(text)  # Converts None score to empty string\n",
    "    doc = nlp(text.lower())\n",
    "    return \" \".join([token.lemma_ for token in doc if not token.is_stop and token.is_alpha])\n",
    "\n",
    "df['cleaned_review'] = df['review'].apply(preprocess)\n"
   ]
  },
  {
   "cell_type": "code",
   "execution_count": 30,
   "id": "aa34dd2c",
   "metadata": {},
   "outputs": [
    {
     "name": "stdout",
     "output_type": "stream",
     "text": [
      "Top TF-IDF Keywords: ['access' 'account' 'add' 'amazing' 'app' 'app good' 'app work'\n",
      " 'application' 'ask' 'available' 'bad' 'bad app' 'balance' 'bank'\n",
      " 'banking' 'banking app' 'birr' 'boa' 'branch' 'bug']\n"
     ]
    }
   ],
   "source": [
    "#Keyword Extraction via TF-IDF\n",
    "tfidf = TfidfVectorizer(stop_words='english', ngram_range=(1, 2), max_features=100)\n",
    "tfidf_matrix = tfidf.fit_transform(df['cleaned_review'])\n",
    "keywords = tfidf.get_feature_names_out()\n",
    "print(\"Top TF-IDF Keywords:\", keywords[:20])\n"
   ]
  },
  {
   "cell_type": "code",
   "execution_count": 31,
   "id": "301ea6e0",
   "metadata": {},
   "outputs": [
    {
     "name": "stdout",
     "output_type": "stream",
     "text": [
      "                                      cleaned_review   themes\n",
      "0  review content play great way share helpful fe...  [Other]\n",
      "1                                       bad hard use  [Other]\n",
      "2  amazing app well update access internet fee op...  [Other]\n",
      "3                                                app  [Other]\n",
      "4                                           good app  [Other]\n"
     ]
    }
   ],
   "source": [
    "#Theme Assignment\n",
    "themes = {\n",
    "    \"Transaction Issues\": [\"transaction\", \"failed\", \"deposit\", \"money\", \"transfer\"],\n",
    "    \"Login/Access\": [\"login\", \"pin\", \"reset\", \"password\"],\n",
    "    \"UI/UX\": [\"interface\", \"easy to use\", \"navigation\", \"layout\"],\n",
    "    \"Performance\": [\"crash\", \"slow\", \"freeze\", \"lag\"],\n",
    "    \"Feature Requests\": [\"add\", \"feature\", \"option\", \"support\"]\n",
    "}\n",
    "\n",
    "def assign_theme(review):\n",
    "    assigned = []\n",
    "    for theme, kws in themes.items():\n",
    "        if any(kw in review.lower() for kw in kws):\n",
    "            assigned.append(theme)\n",
    "    return assigned if assigned else [\"Other\"]\n",
    "\n",
    "df['themes'] = df['cleaned_review'].apply(assign_theme)\n",
    "print(df[['cleaned_review', 'themes']].head())\n",
    "\n"
   ]
  },
  {
   "cell_type": "code",
   "execution_count": 32,
   "id": "0991ab94",
   "metadata": {},
   "outputs": [],
   "source": [
    "# Save final sentiment and theme labels\n",
    "df[['review', 'sentiment', 'sentiment_score', 'bert_sentiment', 'bert_score', 'rating', 'bank', 'themes']].to_csv(\n",
    "    \"../outputs/sentiment_output.csv\", index=False)\n",
    "\n",
    "# Summary table by rating & bank\n",
    "summary = df.groupby(['bank', 'rating'])[['sentiment_score', 'bert_score']].mean().reset_index()\n",
    "summary.to_csv(\"../outputs/sentiment_summary.csv\", index=False)\n"
   ]
  }
 ],
 "metadata": {
  "kernelspec": {
   "display_name": "venv",
   "language": "python",
   "name": "python3"
  },
  "language_info": {
   "codemirror_mode": {
    "name": "ipython",
    "version": 3
   },
   "file_extension": ".py",
   "mimetype": "text/x-python",
   "name": "python",
   "nbconvert_exporter": "python",
   "pygments_lexer": "ipython3",
   "version": "3.13.3"
  }
 },
 "nbformat": 4,
 "nbformat_minor": 5
}
