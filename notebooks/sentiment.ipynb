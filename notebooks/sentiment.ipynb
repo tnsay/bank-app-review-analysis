{
 "cells": [
  {
   "cell_type": "markdown",
   "id": "ccefc8af",
   "metadata": {},
   "source": [
    "#Sentiment & Thematic Analysis"
   ]
  },
  {
   "cell_type": "code",
   "execution_count": 11,
   "id": "99df2add",
   "metadata": {},
   "outputs": [],
   "source": [
    "\n",
    "import pandas as pd\n",
    "from textblob import TextBlob\n",
    "\n",
    "from sklearn.feature_extraction.text import TfidfVectorizer\n",
    "import spacy\n",
    "\n",
    "# Load spaCy model\n",
    "nlp = spacy.load(\"en_core_web_sm\")\n"
   ]
  },
  {
   "cell_type": "code",
   "execution_count": 12,
   "id": "4636d235",
   "metadata": {},
   "outputs": [
    {
     "data": {
      "text/html": [
       "<div>\n",
       "<style scoped>\n",
       "    .dataframe tbody tr th:only-of-type {\n",
       "        vertical-align: middle;\n",
       "    }\n",
       "\n",
       "    .dataframe tbody tr th {\n",
       "        vertical-align: top;\n",
       "    }\n",
       "\n",
       "    .dataframe thead th {\n",
       "        text-align: right;\n",
       "    }\n",
       "</style>\n",
       "<table border=\"1\" class=\"dataframe\">\n",
       "  <thead>\n",
       "    <tr style=\"text-align: right;\">\n",
       "      <th></th>\n",
       "      <th>review</th>\n",
       "      <th>rating</th>\n",
       "      <th>date</th>\n",
       "      <th>bank</th>\n",
       "      <th>source</th>\n",
       "    </tr>\n",
       "  </thead>\n",
       "  <tbody>\n",
       "    <tr>\n",
       "      <th>0</th>\n",
       "      <td>really am happy to this app it is Siple to use...</td>\n",
       "      <td>5</td>\n",
       "      <td>2025-06-07</td>\n",
       "      <td>Commercial Bank of Ethiopia</td>\n",
       "      <td>Google Play</td>\n",
       "    </tr>\n",
       "    <tr>\n",
       "      <th>1</th>\n",
       "      <td>I liked this app. But the User interface is ve...</td>\n",
       "      <td>2</td>\n",
       "      <td>2025-06-07</td>\n",
       "      <td>Commercial Bank of Ethiopia</td>\n",
       "      <td>Google Play</td>\n",
       "    </tr>\n",
       "    <tr>\n",
       "      <th>2</th>\n",
       "      <td>\"Why don’t your ATMs support account-to-accoun...</td>\n",
       "      <td>4</td>\n",
       "      <td>2025-06-06</td>\n",
       "      <td>Commercial Bank of Ethiopia</td>\n",
       "      <td>Google Play</td>\n",
       "    </tr>\n",
       "    <tr>\n",
       "      <th>3</th>\n",
       "      <td>what is this app problem???</td>\n",
       "      <td>1</td>\n",
       "      <td>2025-06-05</td>\n",
       "      <td>Commercial Bank of Ethiopia</td>\n",
       "      <td>Google Play</td>\n",
       "    </tr>\n",
       "    <tr>\n",
       "      <th>4</th>\n",
       "      <td>the app is proactive and a good connections.</td>\n",
       "      <td>5</td>\n",
       "      <td>2025-06-05</td>\n",
       "      <td>Commercial Bank of Ethiopia</td>\n",
       "      <td>Google Play</td>\n",
       "    </tr>\n",
       "  </tbody>\n",
       "</table>\n",
       "</div>"
      ],
      "text/plain": [
       "                                              review  rating        date  \\\n",
       "0  really am happy to this app it is Siple to use...       5  2025-06-07   \n",
       "1  I liked this app. But the User interface is ve...       2  2025-06-07   \n",
       "2  \"Why don’t your ATMs support account-to-accoun...       4  2025-06-06   \n",
       "3                        what is this app problem???       1  2025-06-05   \n",
       "4       the app is proactive and a good connections.       5  2025-06-05   \n",
       "\n",
       "                          bank       source  \n",
       "0  Commercial Bank of Ethiopia  Google Play  \n",
       "1  Commercial Bank of Ethiopia  Google Play  \n",
       "2  Commercial Bank of Ethiopia  Google Play  \n",
       "3  Commercial Bank of Ethiopia  Google Play  \n",
       "4  Commercial Bank of Ethiopia  Google Play  "
      ]
     },
     "execution_count": 12,
     "metadata": {},
     "output_type": "execute_result"
    }
   ],
   "source": [
    "\n",
    "# Load cleaned review data\n",
    "df = pd.read_csv('../data/cleaned_reviews.csv')\n",
    "df.head()"
   ]
  },
  {
   "cell_type": "code",
   "execution_count": 13,
   "id": "9b4b8858",
   "metadata": {},
   "outputs": [
    {
     "name": "stdout",
     "output_type": "stream",
     "text": [
      "                                              review sentiment  \\\n",
      "0  really am happy to this app it is Siple to use...  Positive   \n",
      "1  I liked this app. But the User interface is ve...  Positive   \n",
      "2  \"Why don’t your ATMs support account-to-accoun...  Negative   \n",
      "3                        what is this app problem???   Neutral   \n",
      "4       the app is proactive and a good connections.  Positive   \n",
      "5    I cannot send to cbebirr app. through this app.   Neutral   \n",
      "6                                               good  Positive   \n",
      "7                                     not functional   Neutral   \n",
      "8  everytime you uninstall the app you have to re...  Positive   \n",
      "9  አካውንት የምናስገባበት ቦታ ስም ጽፈን ነው ከዚህ በፊት የላክንባቸውን አ...   Neutral   \n",
      "\n",
      "   sentiment_score  \n",
      "0         0.800000  \n",
      "1         0.066667  \n",
      "2        -0.125000  \n",
      "3         0.000000  \n",
      "4         0.700000  \n",
      "5         0.000000  \n",
      "6         0.700000  \n",
      "7         0.000000  \n",
      "8         0.234167  \n",
      "9         0.000000  \n",
      "sentiment\n",
      "Positive    3585\n",
      "Neutral     2341\n",
      "Negative     747\n",
      "Name: count, dtype: int64\n",
      "                                               review  sentiment_score\n",
      "2   \"Why don’t your ATMs support account-to-accoun...        -0.125000\n",
      "22  it is like a childish app make it better the w...        -0.233333\n",
      "29  Recently there is big problem when sending to ...        -0.153333\n",
      "48  The CBE app has been highly unreliable in rece...        -0.140505\n",
      "56                                       its not fast        -0.100000\n",
      "                                              review  sentiment_score\n",
      "0  really am happy to this app it is Siple to use...         0.800000\n",
      "1  I liked this app. But the User interface is ve...         0.066667\n",
      "4       the app is proactive and a good connections.         0.700000\n",
      "6                                               good         0.700000\n",
      "8  everytime you uninstall the app you have to re...         0.234167\n",
      "                                               review  sentiment_score\n",
      "3                         what is this app problem???              0.0\n",
      "5     I cannot send to cbebirr app. through this app.              0.0\n",
      "7                                      not functional              0.0\n",
      "9   አካውንት የምናስገባበት ቦታ ስም ጽፈን ነው ከዚህ በፊት የላክንባቸውን አ...              0.0\n",
      "11                                            bezabih              0.0\n",
      "count    6673.000000\n",
      "mean        0.233689\n",
      "std         0.388922\n",
      "min        -1.000000\n",
      "25%         0.000000\n",
      "50%         0.100000\n",
      "75%         0.500000\n",
      "max         1.000000\n",
      "Name: sentiment_score, dtype: float64\n"
     ]
    }
   ],
   "source": [
    "def get_textblob_sentiment(text):\n",
    "    polarity = TextBlob(str(text)).sentiment.polarity\n",
    "    if polarity > 0:\n",
    "        return 'Positive'\n",
    "    elif polarity < 0:\n",
    "        return 'Negative'\n",
    "    else:\n",
    "        return 'Neutral'\n",
    "\n",
    "\n",
    "df['sentiment'] = df['review'].apply(get_textblob_sentiment)\n",
    "\n",
    "df['sentiment_score'] = df['review'].apply(lambda x: TextBlob(str(x)).sentiment.polarity)\n",
    "\n",
    "print(df[['review', 'sentiment', 'sentiment_score']].head(10))\n",
    "print(df['sentiment'].value_counts())\n",
    "#print sample from each sentiment\n",
    "print(df[df['sentiment'] == 'Negative'][['review', 'sentiment_score']].head())\n",
    "print(df[df['sentiment'] == 'Positive'][['review', 'sentiment_score']].head())\n",
    "print(df[df['sentiment'] == 'Neutral'][['review', 'sentiment_score']].head())\n",
    "\n",
    "print(df['sentiment_score'].describe())\n"
   ]
  },
  {
   "cell_type": "code",
   "execution_count": 14,
   "id": "fe8f54fc",
   "metadata": {},
   "outputs": [
    {
     "name": "stdout",
     "output_type": "stream",
     "text": [
      "2.7.1+cpu\n",
      "False\n"
     ]
    }
   ],
   "source": [
    "import torch\n",
    "print(torch.__version__)\n",
    "print(torch.cuda.is_available()) "
   ]
  },
  {
   "cell_type": "code",
   "execution_count": 17,
   "id": "bf241b7f",
   "metadata": {},
   "outputs": [
    {
     "name": "stderr",
     "output_type": "stream",
     "text": [
      "Xet Storage is enabled for this repo, but the 'hf_xet' package is not installed. Falling back to regular HTTP download. For better performance, install the package with: `pip install huggingface_hub[hf_xet]` or `pip install hf_xet`\n",
      "Error while downloading from https://huggingface.co/distilbert-base-uncased-finetuned-sst-2-english/resolve/main/pytorch_model.bin: HTTPSConnectionPool(host='cas-bridge.xethub.hf.co', port=443): Read timed out.\n",
      "Trying to resume download...\n"
     ]
    },
    {
     "ename": "ValueError",
     "evalue": "Could not load model distilbert-base-uncased-finetuned-sst-2-english with any of the following classes: (<class 'transformers.models.auto.modeling_auto.AutoModelForSequenceClassification'>, <class 'transformers.models.distilbert.modeling_distilbert.DistilBertForSequenceClassification'>). See the original errors:\n\nwhile loading with AutoModelForSequenceClassification, an error is thrown:\nTraceback (most recent call last):\n  File \"c:\\PY\\bank-app-review-analysis\\venv\\Lib\\site-packages\\urllib3\\response.py\", line 754, in _error_catcher\n    yield\n  File \"c:\\PY\\bank-app-review-analysis\\venv\\Lib\\site-packages\\urllib3\\response.py\", line 879, in _raw_read\n    data = self._fp_read(amt, read1=read1) if not fp_closed else b\"\"\n           ~~~~~~~~~~~~~^^^^^^^^^^^^^^^^^^\n  File \"c:\\PY\\bank-app-review-analysis\\venv\\Lib\\site-packages\\urllib3\\response.py\", line 862, in _fp_read\n    return self._fp.read(amt) if amt is not None else self._fp.read()\n           ~~~~~~~~~~~~~^^^^^\n  File \"C:\\Program Files\\WindowsApps\\PythonSoftwareFoundation.Python.3.13_3.13.1008.0_x64__qbz5n2kfra8p0\\Lib\\http\\client.py\", line 479, in read\n    s = self.fp.read(amt)\n  File \"C:\\Program Files\\WindowsApps\\PythonSoftwareFoundation.Python.3.13_3.13.1008.0_x64__qbz5n2kfra8p0\\Lib\\socket.py\", line 719, in readinto\n    return self._sock.recv_into(b)\n           ~~~~~~~~~~~~~~~~~~~~^^^\n  File \"C:\\Program Files\\WindowsApps\\PythonSoftwareFoundation.Python.3.13_3.13.1008.0_x64__qbz5n2kfra8p0\\Lib\\ssl.py\", line 1304, in recv_into\n    return self.read(nbytes, buffer)\n           ~~~~~~~~~^^^^^^^^^^^^^^^^\n  File \"C:\\Program Files\\WindowsApps\\PythonSoftwareFoundation.Python.3.13_3.13.1008.0_x64__qbz5n2kfra8p0\\Lib\\ssl.py\", line 1138, in read\n    return self._sslobj.read(len, buffer)\n           ~~~~~~~~~~~~~~~~~^^^^^^^^^^^^^\nTimeoutError: The read operation timed out\n\nThe above exception was the direct cause of the following exception:\n\nTraceback (most recent call last):\n  File \"c:\\PY\\bank-app-review-analysis\\venv\\Lib\\site-packages\\requests\\models.py\", line 820, in generate\n    yield from self.raw.stream(chunk_size, decode_content=True)\n  File \"c:\\PY\\bank-app-review-analysis\\venv\\Lib\\site-packages\\urllib3\\response.py\", line 1066, in stream\n    data = self.read(amt=amt, decode_content=decode_content)\n  File \"c:\\PY\\bank-app-review-analysis\\venv\\Lib\\site-packages\\urllib3\\response.py\", line 955, in read\n    data = self._raw_read(amt)\n  File \"c:\\PY\\bank-app-review-analysis\\venv\\Lib\\site-packages\\urllib3\\response.py\", line 878, in _raw_read\n    with self._error_catcher():\n         ~~~~~~~~~~~~~~~~~~~^^\n  File \"C:\\Program Files\\WindowsApps\\PythonSoftwareFoundation.Python.3.13_3.13.1008.0_x64__qbz5n2kfra8p0\\Lib\\contextlib.py\", line 162, in __exit__\n    self.gen.throw(value)\n    ~~~~~~~~~~~~~~^^^^^^^\n  File \"c:\\PY\\bank-app-review-analysis\\venv\\Lib\\site-packages\\urllib3\\response.py\", line 759, in _error_catcher\n    raise ReadTimeoutError(self._pool, None, \"Read timed out.\") from e  # type: ignore[arg-type]\n    ^^^^^^^^^^^^^^^^^^^^^^^^^^^^^^^^^^^^^^^^^^^^^^^^^^^^^^^^^^^^^^^^^^\nurllib3.exceptions.ReadTimeoutError: HTTPSConnectionPool(host='cas-bridge.xethub.hf.co', port=443): Read timed out.\n\nDuring handling of the above exception, another exception occurred:\n\nTraceback (most recent call last):\n  File \"c:\\PY\\bank-app-review-analysis\\venv\\Lib\\site-packages\\huggingface_hub\\file_download.py\", line 494, in http_get\n    for chunk in r.iter_content(chunk_size=constants.DOWNLOAD_CHUNK_SIZE):\n                 ~~~~~~~~~~~~~~^^^^^^^^^^^^^^^^^^^^^^^^^^^^^^^^^^^^^^^^^^\n  File \"c:\\PY\\bank-app-review-analysis\\venv\\Lib\\site-packages\\requests\\models.py\", line 826, in generate\n    raise ConnectionError(e)\nrequests.exceptions.ConnectionError: HTTPSConnectionPool(host='cas-bridge.xethub.hf.co', port=443): Read timed out.\n\nDuring handling of the above exception, another exception occurred:\n\nTraceback (most recent call last):\n  File \"c:\\PY\\bank-app-review-analysis\\venv\\Lib\\site-packages\\urllib3\\connection.py\", line 198, in _new_conn\n    sock = connection.create_connection(\n        (self._dns_host, self.port),\n    ...<2 lines>...\n        socket_options=self.socket_options,\n    )\n  File \"c:\\PY\\bank-app-review-analysis\\venv\\Lib\\site-packages\\urllib3\\util\\connection.py\", line 60, in create_connection\n    for res in socket.getaddrinfo(host, port, family, socket.SOCK_STREAM):\n               ~~~~~~~~~~~~~~~~~~^^^^^^^^^^^^^^^^^^^^^^^^^^^^^^^^^^^^^^^^\n  File \"C:\\Program Files\\WindowsApps\\PythonSoftwareFoundation.Python.3.13_3.13.1008.0_x64__qbz5n2kfra8p0\\Lib\\socket.py\", line 977, in getaddrinfo\n    for res in _socket.getaddrinfo(host, port, family, type, proto, flags):\n               ~~~~~~~~~~~~~~~~~~~^^^^^^^^^^^^^^^^^^^^^^^^^^^^^^^^^^^^^^^^\nsocket.gaierror: [Errno 11001] getaddrinfo failed\n\nThe above exception was the direct cause of the following exception:\n\nTraceback (most recent call last):\n  File \"c:\\PY\\bank-app-review-analysis\\venv\\Lib\\site-packages\\urllib3\\connectionpool.py\", line 787, in urlopen\n    response = self._make_request(\n        conn,\n    ...<10 lines>...\n        **response_kw,\n    )\n  File \"c:\\PY\\bank-app-review-analysis\\venv\\Lib\\site-packages\\urllib3\\connectionpool.py\", line 488, in _make_request\n    raise new_e\n  File \"c:\\PY\\bank-app-review-analysis\\venv\\Lib\\site-packages\\urllib3\\connectionpool.py\", line 464, in _make_request\n    self._validate_conn(conn)\n    ~~~~~~~~~~~~~~~~~~~^^^^^^\n  File \"c:\\PY\\bank-app-review-analysis\\venv\\Lib\\site-packages\\urllib3\\connectionpool.py\", line 1093, in _validate_conn\n    conn.connect()\n    ~~~~~~~~~~~~^^\n  File \"c:\\PY\\bank-app-review-analysis\\venv\\Lib\\site-packages\\urllib3\\connection.py\", line 704, in connect\n    self.sock = sock = self._new_conn()\n                       ~~~~~~~~~~~~~~^^\n  File \"c:\\PY\\bank-app-review-analysis\\venv\\Lib\\site-packages\\urllib3\\connection.py\", line 205, in _new_conn\n    raise NameResolutionError(self.host, self, e) from e\nurllib3.exceptions.NameResolutionError: <urllib3.connection.HTTPSConnection object at 0x00000252067FC7D0>: Failed to resolve 'huggingface.co' ([Errno 11001] getaddrinfo failed)\n\nThe above exception was the direct cause of the following exception:\n\nTraceback (most recent call last):\n  File \"c:\\PY\\bank-app-review-analysis\\venv\\Lib\\site-packages\\requests\\adapters.py\", line 667, in send\n    resp = conn.urlopen(\n        method=request.method,\n    ...<9 lines>...\n        chunked=chunked,\n    )\n  File \"c:\\PY\\bank-app-review-analysis\\venv\\Lib\\site-packages\\urllib3\\connectionpool.py\", line 841, in urlopen\n    retries = retries.increment(\n        method, url, error=new_e, _pool=self, _stacktrace=sys.exc_info()[2]\n    )\n  File \"c:\\PY\\bank-app-review-analysis\\venv\\Lib\\site-packages\\urllib3\\util\\retry.py\", line 519, in increment\n    raise MaxRetryError(_pool, url, reason) from reason  # type: ignore[arg-type]\n    ^^^^^^^^^^^^^^^^^^^^^^^^^^^^^^^^^^^^^^^^^^^^^^^^^^^\nurllib3.exceptions.MaxRetryError: HTTPSConnectionPool(host='huggingface.co', port=443): Max retries exceeded with url: /distilbert-base-uncased-finetuned-sst-2-english/resolve/main/pytorch_model.bin (Caused by NameResolutionError(\"<urllib3.connection.HTTPSConnection object at 0x00000252067FC7D0>: Failed to resolve 'huggingface.co' ([Errno 11001] getaddrinfo failed)\"))\n\nDuring handling of the above exception, another exception occurred:\n\nTraceback (most recent call last):\n  File \"c:\\PY\\bank-app-review-analysis\\venv\\Lib\\site-packages\\transformers\\pipelines\\base.py\", line 292, in infer_framework_load_model\n    model = model_class.from_pretrained(model, **kwargs)\n  File \"c:\\PY\\bank-app-review-analysis\\venv\\Lib\\site-packages\\transformers\\models\\auto\\auto_factory.py\", line 571, in from_pretrained\n    return model_class.from_pretrained(\n           ~~~~~~~~~~~~~~~~~~~~~~~~~~~^\n        pretrained_model_name_or_path, *model_args, config=config, **hub_kwargs, **kwargs\n        ^^^^^^^^^^^^^^^^^^^^^^^^^^^^^^^^^^^^^^^^^^^^^^^^^^^^^^^^^^^^^^^^^^^^^^^^^^^^^^^^^\n    )\n    ^\n  File \"c:\\PY\\bank-app-review-analysis\\venv\\Lib\\site-packages\\transformers\\modeling_utils.py\", line 309, in _wrapper\n    return func(*args, **kwargs)\n  File \"c:\\PY\\bank-app-review-analysis\\venv\\Lib\\site-packages\\transformers\\modeling_utils.py\", line 4422, in from_pretrained\n    checkpoint_files, sharded_metadata = _get_resolved_checkpoint_files(\n                                         ~~~~~~~~~~~~~~~~~~~~~~~~~~~~~~^\n        pretrained_model_name_or_path=pretrained_model_name_or_path,\n        ^^^^^^^^^^^^^^^^^^^^^^^^^^^^^^^^^^^^^^^^^^^^^^^^^^^^^^^^^^^^\n    ...<14 lines>...\n        transformers_explicit_filename=transformers_explicit_filename,\n        ^^^^^^^^^^^^^^^^^^^^^^^^^^^^^^^^^^^^^^^^^^^^^^^^^^^^^^^^^^^^^^\n    )\n    ^\n  File \"c:\\PY\\bank-app-review-analysis\\venv\\Lib\\site-packages\\transformers\\modeling_utils.py\", line 1053, in _get_resolved_checkpoint_files\n    resolved_archive_file = cached_file(\n        pretrained_model_name_or_path, filename, **cached_file_kwargs\n    )\n  File \"c:\\PY\\bank-app-review-analysis\\venv\\Lib\\site-packages\\transformers\\utils\\hub.py\", line 312, in cached_file\n    file = cached_files(path_or_repo_id=path_or_repo_id, filenames=[filename], **kwargs)\n  File \"c:\\PY\\bank-app-review-analysis\\venv\\Lib\\site-packages\\transformers\\utils\\hub.py\", line 557, in cached_files\n    raise e\n  File \"c:\\PY\\bank-app-review-analysis\\venv\\Lib\\site-packages\\transformers\\utils\\hub.py\", line 470, in cached_files\n    hf_hub_download(\n    ~~~~~~~~~~~~~~~^\n        path_or_repo_id,\n        ^^^^^^^^^^^^^^^^\n    ...<10 lines>...\n        local_files_only=local_files_only,\n        ^^^^^^^^^^^^^^^^^^^^^^^^^^^^^^^^^^\n    )\n    ^\n  File \"c:\\PY\\bank-app-review-analysis\\venv\\Lib\\site-packages\\huggingface_hub\\utils\\_validators.py\", line 114, in _inner_fn\n    return fn(*args, **kwargs)\n  File \"c:\\PY\\bank-app-review-analysis\\venv\\Lib\\site-packages\\huggingface_hub\\file_download.py\", line 1008, in hf_hub_download\n    return _hf_hub_download_to_cache_dir(\n        # Destination\n    ...<14 lines>...\n        force_download=force_download,\n    )\n  File \"c:\\PY\\bank-app-review-analysis\\venv\\Lib\\site-packages\\huggingface_hub\\file_download.py\", line 1161, in _hf_hub_download_to_cache_dir\n    _download_to_tmp_and_move(\n    ~~~~~~~~~~~~~~~~~~~~~~~~~^\n        incomplete_path=Path(blob_path + \".incomplete\"),\n        ^^^^^^^^^^^^^^^^^^^^^^^^^^^^^^^^^^^^^^^^^^^^^^^^\n    ...<8 lines>...\n        xet_file_data=xet_file_data,\n        ^^^^^^^^^^^^^^^^^^^^^^^^^^^^\n    )\n    ^\n  File \"c:\\PY\\bank-app-review-analysis\\venv\\Lib\\site-packages\\huggingface_hub\\file_download.py\", line 1725, in _download_to_tmp_and_move\n    http_get(\n    ~~~~~~~~^\n        url_to_download,\n        ^^^^^^^^^^^^^^^^\n    ...<4 lines>...\n        expected_size=expected_size,\n        ^^^^^^^^^^^^^^^^^^^^^^^^^^^^\n    )\n    ^\n  File \"c:\\PY\\bank-app-review-analysis\\venv\\Lib\\site-packages\\huggingface_hub\\file_download.py\", line 511, in http_get\n    return http_get(\n        url=url,\n    ...<6 lines>...\n        _tqdm_bar=_tqdm_bar,\n    )\n  File \"c:\\PY\\bank-app-review-analysis\\venv\\Lib\\site-packages\\huggingface_hub\\file_download.py\", line 420, in http_get\n    r = _request_wrapper(\n        method=\"GET\", url=url, stream=True, proxies=proxies, headers=headers, timeout=constants.HF_HUB_DOWNLOAD_TIMEOUT\n    )\n  File \"c:\\PY\\bank-app-review-analysis\\venv\\Lib\\site-packages\\huggingface_hub\\file_download.py\", line 309, in _request_wrapper\n    response = http_backoff(method=method, url=url, **params, retry_on_exceptions=(), retry_on_status_codes=(429,))\n  File \"c:\\PY\\bank-app-review-analysis\\venv\\Lib\\site-packages\\huggingface_hub\\utils\\_http.py\", line 310, in http_backoff\n    response = session.request(method=method, url=url, **kwargs)\n  File \"c:\\PY\\bank-app-review-analysis\\venv\\Lib\\site-packages\\requests\\sessions.py\", line 589, in request\n    resp = self.send(prep, **send_kwargs)\n  File \"c:\\PY\\bank-app-review-analysis\\venv\\Lib\\site-packages\\requests\\sessions.py\", line 703, in send\n    r = adapter.send(request, **kwargs)\n  File \"c:\\PY\\bank-app-review-analysis\\venv\\Lib\\site-packages\\huggingface_hub\\utils\\_http.py\", line 96, in send\n    return super().send(request, *args, **kwargs)\n           ~~~~~~~~~~~~^^^^^^^^^^^^^^^^^^^^^^^^^^\n  File \"c:\\PY\\bank-app-review-analysis\\venv\\Lib\\site-packages\\requests\\adapters.py\", line 700, in send\n    raise ConnectionError(e, request=request)\nrequests.exceptions.ConnectionError: (MaxRetryError('HTTPSConnectionPool(host=\\'huggingface.co\\', port=443): Max retries exceeded with url: /distilbert-base-uncased-finetuned-sst-2-english/resolve/main/pytorch_model.bin (Caused by NameResolutionError(\"<urllib3.connection.HTTPSConnection object at 0x00000252067FC7D0>: Failed to resolve \\'huggingface.co\\' ([Errno 11001] getaddrinfo failed)\"))'), '(Request ID: 6b0406c1-033d-4428-8400-845ab88e264f)')\n\nwhile loading with DistilBertForSequenceClassification, an error is thrown:\nTraceback (most recent call last):\n  File \"c:\\PY\\bank-app-review-analysis\\venv\\Lib\\site-packages\\transformers\\pipelines\\base.py\", line 292, in infer_framework_load_model\n    model = model_class.from_pretrained(model, **kwargs)\n  File \"c:\\PY\\bank-app-review-analysis\\venv\\Lib\\site-packages\\transformers\\modeling_utils.py\", line 309, in _wrapper\n    return func(*args, **kwargs)\n  File \"c:\\PY\\bank-app-review-analysis\\venv\\Lib\\site-packages\\transformers\\modeling_utils.py\", line 4422, in from_pretrained\n    checkpoint_files, sharded_metadata = _get_resolved_checkpoint_files(\n                                         ~~~~~~~~~~~~~~~~~~~~~~~~~~~~~~^\n        pretrained_model_name_or_path=pretrained_model_name_or_path,\n        ^^^^^^^^^^^^^^^^^^^^^^^^^^^^^^^^^^^^^^^^^^^^^^^^^^^^^^^^^^^^\n    ...<14 lines>...\n        transformers_explicit_filename=transformers_explicit_filename,\n        ^^^^^^^^^^^^^^^^^^^^^^^^^^^^^^^^^^^^^^^^^^^^^^^^^^^^^^^^^^^^^^\n    )\n    ^\n  File \"c:\\PY\\bank-app-review-analysis\\venv\\Lib\\site-packages\\transformers\\modeling_utils.py\", line 1127, in _get_resolved_checkpoint_files\n    raise EnvironmentError(\n    ...<3 lines>...\n    )\nOSError: distilbert-base-uncased-finetuned-sst-2-english does not appear to have a file named pytorch_model.bin, model.safetensors, tf_model.h5, model.ckpt or flax_model.msgpack.\n\n\n",
     "output_type": "error",
     "traceback": [
      "\u001b[31m---------------------------------------------------------------------------\u001b[39m",
      "\u001b[31mValueError\u001b[39m                                Traceback (most recent call last)",
      "\u001b[36mCell\u001b[39m\u001b[36m \u001b[39m\u001b[32mIn[17]\u001b[39m\u001b[32m, line 3\u001b[39m\n\u001b[32m      1\u001b[39m \u001b[38;5;28;01mfrom\u001b[39;00m\u001b[38;5;250m \u001b[39m\u001b[34;01mtransformers\u001b[39;00m\u001b[38;5;250m \u001b[39m\u001b[38;5;28;01mimport\u001b[39;00m pipeline\n\u001b[32m----> \u001b[39m\u001b[32m3\u001b[39m sentiment_pipeline = \u001b[43mpipeline\u001b[49m\u001b[43m(\u001b[49m\u001b[33;43m\"\u001b[39;49m\u001b[33;43msentiment-analysis\u001b[39;49m\u001b[33;43m\"\u001b[39;49m\u001b[43m,\u001b[49m\u001b[43m \u001b[49m\u001b[43mmodel\u001b[49m\u001b[43m=\u001b[49m\u001b[33;43m\"\u001b[39;49m\u001b[33;43mdistilbert-base-uncased-finetuned-sst-2-english\u001b[39;49m\u001b[33;43m\"\u001b[39;49m\u001b[43m)\u001b[49m\n\u001b[32m      5\u001b[39m \u001b[38;5;28;01mdef\u001b[39;00m\u001b[38;5;250m \u001b[39m\u001b[34mget_bert_sentiment\u001b[39m(text):\n\u001b[32m      6\u001b[39m     result = sentiment_pipeline(text[:\u001b[32m512\u001b[39m])[\u001b[32m0\u001b[39m]\n",
      "\u001b[36mFile \u001b[39m\u001b[32mc:\\PY\\bank-app-review-analysis\\venv\\Lib\\site-packages\\transformers\\pipelines\\__init__.py:942\u001b[39m, in \u001b[36mpipeline\u001b[39m\u001b[34m(task, model, config, tokenizer, feature_extractor, image_processor, processor, framework, revision, use_fast, token, device, device_map, torch_dtype, trust_remote_code, model_kwargs, pipeline_class, **kwargs)\u001b[39m\n\u001b[32m    940\u001b[39m \u001b[38;5;28;01mif\u001b[39;00m \u001b[38;5;28misinstance\u001b[39m(model, \u001b[38;5;28mstr\u001b[39m) \u001b[38;5;129;01mor\u001b[39;00m framework \u001b[38;5;129;01mis\u001b[39;00m \u001b[38;5;28;01mNone\u001b[39;00m:\n\u001b[32m    941\u001b[39m     model_classes = {\u001b[33m\"\u001b[39m\u001b[33mtf\u001b[39m\u001b[33m\"\u001b[39m: targeted_task[\u001b[33m\"\u001b[39m\u001b[33mtf\u001b[39m\u001b[33m\"\u001b[39m], \u001b[33m\"\u001b[39m\u001b[33mpt\u001b[39m\u001b[33m\"\u001b[39m: targeted_task[\u001b[33m\"\u001b[39m\u001b[33mpt\u001b[39m\u001b[33m\"\u001b[39m]}\n\u001b[32m--> \u001b[39m\u001b[32m942\u001b[39m     framework, model = \u001b[43minfer_framework_load_model\u001b[49m\u001b[43m(\u001b[49m\n\u001b[32m    943\u001b[39m \u001b[43m        \u001b[49m\u001b[43madapter_path\u001b[49m\u001b[43m \u001b[49m\u001b[38;5;28;43;01mif\u001b[39;49;00m\u001b[43m \u001b[49m\u001b[43madapter_path\u001b[49m\u001b[43m \u001b[49m\u001b[38;5;129;43;01mis\u001b[39;49;00m\u001b[43m \u001b[49m\u001b[38;5;129;43;01mnot\u001b[39;49;00m\u001b[43m \u001b[49m\u001b[38;5;28;43;01mNone\u001b[39;49;00m\u001b[43m \u001b[49m\u001b[38;5;28;43;01melse\u001b[39;49;00m\u001b[43m \u001b[49m\u001b[43mmodel\u001b[49m\u001b[43m,\u001b[49m\n\u001b[32m    944\u001b[39m \u001b[43m        \u001b[49m\u001b[43mmodel_classes\u001b[49m\u001b[43m=\u001b[49m\u001b[43mmodel_classes\u001b[49m\u001b[43m,\u001b[49m\n\u001b[32m    945\u001b[39m \u001b[43m        \u001b[49m\u001b[43mconfig\u001b[49m\u001b[43m=\u001b[49m\u001b[43mconfig\u001b[49m\u001b[43m,\u001b[49m\n\u001b[32m    946\u001b[39m \u001b[43m        \u001b[49m\u001b[43mframework\u001b[49m\u001b[43m=\u001b[49m\u001b[43mframework\u001b[49m\u001b[43m,\u001b[49m\n\u001b[32m    947\u001b[39m \u001b[43m        \u001b[49m\u001b[43mtask\u001b[49m\u001b[43m=\u001b[49m\u001b[43mtask\u001b[49m\u001b[43m,\u001b[49m\n\u001b[32m    948\u001b[39m \u001b[43m        \u001b[49m\u001b[43m*\u001b[49m\u001b[43m*\u001b[49m\u001b[43mhub_kwargs\u001b[49m\u001b[43m,\u001b[49m\n\u001b[32m    949\u001b[39m \u001b[43m        \u001b[49m\u001b[43m*\u001b[49m\u001b[43m*\u001b[49m\u001b[43mmodel_kwargs\u001b[49m\u001b[43m,\u001b[49m\n\u001b[32m    950\u001b[39m \u001b[43m    \u001b[49m\u001b[43m)\u001b[49m\n\u001b[32m    952\u001b[39m model_config = model.config\n\u001b[32m    953\u001b[39m hub_kwargs[\u001b[33m\"\u001b[39m\u001b[33m_commit_hash\u001b[39m\u001b[33m\"\u001b[39m] = model.config._commit_hash\n",
      "\u001b[36mFile \u001b[39m\u001b[32mc:\\PY\\bank-app-review-analysis\\venv\\Lib\\site-packages\\transformers\\pipelines\\base.py:305\u001b[39m, in \u001b[36minfer_framework_load_model\u001b[39m\u001b[34m(model, config, model_classes, task, framework, **model_kwargs)\u001b[39m\n\u001b[32m    303\u001b[39m         \u001b[38;5;28;01mfor\u001b[39;00m class_name, trace \u001b[38;5;129;01min\u001b[39;00m all_traceback.items():\n\u001b[32m    304\u001b[39m             error += \u001b[33mf\u001b[39m\u001b[33m\"\u001b[39m\u001b[33mwhile loading with \u001b[39m\u001b[38;5;132;01m{\u001b[39;00mclass_name\u001b[38;5;132;01m}\u001b[39;00m\u001b[33m, an error is thrown:\u001b[39m\u001b[38;5;130;01m\\n\u001b[39;00m\u001b[38;5;132;01m{\u001b[39;00mtrace\u001b[38;5;132;01m}\u001b[39;00m\u001b[38;5;130;01m\\n\u001b[39;00m\u001b[33m\"\u001b[39m\n\u001b[32m--> \u001b[39m\u001b[32m305\u001b[39m         \u001b[38;5;28;01mraise\u001b[39;00m \u001b[38;5;167;01mValueError\u001b[39;00m(\n\u001b[32m    306\u001b[39m             \u001b[33mf\u001b[39m\u001b[33m\"\u001b[39m\u001b[33mCould not load model \u001b[39m\u001b[38;5;132;01m{\u001b[39;00mmodel\u001b[38;5;132;01m}\u001b[39;00m\u001b[33m with any of the following classes: \u001b[39m\u001b[38;5;132;01m{\u001b[39;00mclass_tuple\u001b[38;5;132;01m}\u001b[39;00m\u001b[33m. See the original errors:\u001b[39m\u001b[38;5;130;01m\\n\u001b[39;00m\u001b[38;5;130;01m\\n\u001b[39;00m\u001b[38;5;132;01m{\u001b[39;00merror\u001b[38;5;132;01m}\u001b[39;00m\u001b[38;5;130;01m\\n\u001b[39;00m\u001b[33m\"\u001b[39m\n\u001b[32m    307\u001b[39m         )\n\u001b[32m    309\u001b[39m \u001b[38;5;28;01mif\u001b[39;00m framework \u001b[38;5;129;01mis\u001b[39;00m \u001b[38;5;28;01mNone\u001b[39;00m:\n\u001b[32m    310\u001b[39m     framework = infer_framework(model.\u001b[34m__class__\u001b[39m)\n",
      "\u001b[31mValueError\u001b[39m: Could not load model distilbert-base-uncased-finetuned-sst-2-english with any of the following classes: (<class 'transformers.models.auto.modeling_auto.AutoModelForSequenceClassification'>, <class 'transformers.models.distilbert.modeling_distilbert.DistilBertForSequenceClassification'>). See the original errors:\n\nwhile loading with AutoModelForSequenceClassification, an error is thrown:\nTraceback (most recent call last):\n  File \"c:\\PY\\bank-app-review-analysis\\venv\\Lib\\site-packages\\urllib3\\response.py\", line 754, in _error_catcher\n    yield\n  File \"c:\\PY\\bank-app-review-analysis\\venv\\Lib\\site-packages\\urllib3\\response.py\", line 879, in _raw_read\n    data = self._fp_read(amt, read1=read1) if not fp_closed else b\"\"\n           ~~~~~~~~~~~~~^^^^^^^^^^^^^^^^^^\n  File \"c:\\PY\\bank-app-review-analysis\\venv\\Lib\\site-packages\\urllib3\\response.py\", line 862, in _fp_read\n    return self._fp.read(amt) if amt is not None else self._fp.read()\n           ~~~~~~~~~~~~~^^^^^\n  File \"C:\\Program Files\\WindowsApps\\PythonSoftwareFoundation.Python.3.13_3.13.1008.0_x64__qbz5n2kfra8p0\\Lib\\http\\client.py\", line 479, in read\n    s = self.fp.read(amt)\n  File \"C:\\Program Files\\WindowsApps\\PythonSoftwareFoundation.Python.3.13_3.13.1008.0_x64__qbz5n2kfra8p0\\Lib\\socket.py\", line 719, in readinto\n    return self._sock.recv_into(b)\n           ~~~~~~~~~~~~~~~~~~~~^^^\n  File \"C:\\Program Files\\WindowsApps\\PythonSoftwareFoundation.Python.3.13_3.13.1008.0_x64__qbz5n2kfra8p0\\Lib\\ssl.py\", line 1304, in recv_into\n    return self.read(nbytes, buffer)\n           ~~~~~~~~~^^^^^^^^^^^^^^^^\n  File \"C:\\Program Files\\WindowsApps\\PythonSoftwareFoundation.Python.3.13_3.13.1008.0_x64__qbz5n2kfra8p0\\Lib\\ssl.py\", line 1138, in read\n    return self._sslobj.read(len, buffer)\n           ~~~~~~~~~~~~~~~~~^^^^^^^^^^^^^\nTimeoutError: The read operation timed out\n\nThe above exception was the direct cause of the following exception:\n\nTraceback (most recent call last):\n  File \"c:\\PY\\bank-app-review-analysis\\venv\\Lib\\site-packages\\requests\\models.py\", line 820, in generate\n    yield from self.raw.stream(chunk_size, decode_content=True)\n  File \"c:\\PY\\bank-app-review-analysis\\venv\\Lib\\site-packages\\urllib3\\response.py\", line 1066, in stream\n    data = self.read(amt=amt, decode_content=decode_content)\n  File \"c:\\PY\\bank-app-review-analysis\\venv\\Lib\\site-packages\\urllib3\\response.py\", line 955, in read\n    data = self._raw_read(amt)\n  File \"c:\\PY\\bank-app-review-analysis\\venv\\Lib\\site-packages\\urllib3\\response.py\", line 878, in _raw_read\n    with self._error_catcher():\n         ~~~~~~~~~~~~~~~~~~~^^\n  File \"C:\\Program Files\\WindowsApps\\PythonSoftwareFoundation.Python.3.13_3.13.1008.0_x64__qbz5n2kfra8p0\\Lib\\contextlib.py\", line 162, in __exit__\n    self.gen.throw(value)\n    ~~~~~~~~~~~~~~^^^^^^^\n  File \"c:\\PY\\bank-app-review-analysis\\venv\\Lib\\site-packages\\urllib3\\response.py\", line 759, in _error_catcher\n    raise ReadTimeoutError(self._pool, None, \"Read timed out.\") from e  # type: ignore[arg-type]\n    ^^^^^^^^^^^^^^^^^^^^^^^^^^^^^^^^^^^^^^^^^^^^^^^^^^^^^^^^^^^^^^^^^^\nurllib3.exceptions.ReadTimeoutError: HTTPSConnectionPool(host='cas-bridge.xethub.hf.co', port=443): Read timed out.\n\nDuring handling of the above exception, another exception occurred:\n\nTraceback (most recent call last):\n  File \"c:\\PY\\bank-app-review-analysis\\venv\\Lib\\site-packages\\huggingface_hub\\file_download.py\", line 494, in http_get\n    for chunk in r.iter_content(chunk_size=constants.DOWNLOAD_CHUNK_SIZE):\n                 ~~~~~~~~~~~~~~^^^^^^^^^^^^^^^^^^^^^^^^^^^^^^^^^^^^^^^^^^\n  File \"c:\\PY\\bank-app-review-analysis\\venv\\Lib\\site-packages\\requests\\models.py\", line 826, in generate\n    raise ConnectionError(e)\nrequests.exceptions.ConnectionError: HTTPSConnectionPool(host='cas-bridge.xethub.hf.co', port=443): Read timed out.\n\nDuring handling of the above exception, another exception occurred:\n\nTraceback (most recent call last):\n  File \"c:\\PY\\bank-app-review-analysis\\venv\\Lib\\site-packages\\urllib3\\connection.py\", line 198, in _new_conn\n    sock = connection.create_connection(\n        (self._dns_host, self.port),\n    ...<2 lines>...\n        socket_options=self.socket_options,\n    )\n  File \"c:\\PY\\bank-app-review-analysis\\venv\\Lib\\site-packages\\urllib3\\util\\connection.py\", line 60, in create_connection\n    for res in socket.getaddrinfo(host, port, family, socket.SOCK_STREAM):\n               ~~~~~~~~~~~~~~~~~~^^^^^^^^^^^^^^^^^^^^^^^^^^^^^^^^^^^^^^^^\n  File \"C:\\Program Files\\WindowsApps\\PythonSoftwareFoundation.Python.3.13_3.13.1008.0_x64__qbz5n2kfra8p0\\Lib\\socket.py\", line 977, in getaddrinfo\n    for res in _socket.getaddrinfo(host, port, family, type, proto, flags):\n               ~~~~~~~~~~~~~~~~~~~^^^^^^^^^^^^^^^^^^^^^^^^^^^^^^^^^^^^^^^^\nsocket.gaierror: [Errno 11001] getaddrinfo failed\n\nThe above exception was the direct cause of the following exception:\n\nTraceback (most recent call last):\n  File \"c:\\PY\\bank-app-review-analysis\\venv\\Lib\\site-packages\\urllib3\\connectionpool.py\", line 787, in urlopen\n    response = self._make_request(\n        conn,\n    ...<10 lines>...\n        **response_kw,\n    )\n  File \"c:\\PY\\bank-app-review-analysis\\venv\\Lib\\site-packages\\urllib3\\connectionpool.py\", line 488, in _make_request\n    raise new_e\n  File \"c:\\PY\\bank-app-review-analysis\\venv\\Lib\\site-packages\\urllib3\\connectionpool.py\", line 464, in _make_request\n    self._validate_conn(conn)\n    ~~~~~~~~~~~~~~~~~~~^^^^^^\n  File \"c:\\PY\\bank-app-review-analysis\\venv\\Lib\\site-packages\\urllib3\\connectionpool.py\", line 1093, in _validate_conn\n    conn.connect()\n    ~~~~~~~~~~~~^^\n  File \"c:\\PY\\bank-app-review-analysis\\venv\\Lib\\site-packages\\urllib3\\connection.py\", line 704, in connect\n    self.sock = sock = self._new_conn()\n                       ~~~~~~~~~~~~~~^^\n  File \"c:\\PY\\bank-app-review-analysis\\venv\\Lib\\site-packages\\urllib3\\connection.py\", line 205, in _new_conn\n    raise NameResolutionError(self.host, self, e) from e\nurllib3.exceptions.NameResolutionError: <urllib3.connection.HTTPSConnection object at 0x00000252067FC7D0>: Failed to resolve 'huggingface.co' ([Errno 11001] getaddrinfo failed)\n\nThe above exception was the direct cause of the following exception:\n\nTraceback (most recent call last):\n  File \"c:\\PY\\bank-app-review-analysis\\venv\\Lib\\site-packages\\requests\\adapters.py\", line 667, in send\n    resp = conn.urlopen(\n        method=request.method,\n    ...<9 lines>...\n        chunked=chunked,\n    )\n  File \"c:\\PY\\bank-app-review-analysis\\venv\\Lib\\site-packages\\urllib3\\connectionpool.py\", line 841, in urlopen\n    retries = retries.increment(\n        method, url, error=new_e, _pool=self, _stacktrace=sys.exc_info()[2]\n    )\n  File \"c:\\PY\\bank-app-review-analysis\\venv\\Lib\\site-packages\\urllib3\\util\\retry.py\", line 519, in increment\n    raise MaxRetryError(_pool, url, reason) from reason  # type: ignore[arg-type]\n    ^^^^^^^^^^^^^^^^^^^^^^^^^^^^^^^^^^^^^^^^^^^^^^^^^^^\nurllib3.exceptions.MaxRetryError: HTTPSConnectionPool(host='huggingface.co', port=443): Max retries exceeded with url: /distilbert-base-uncased-finetuned-sst-2-english/resolve/main/pytorch_model.bin (Caused by NameResolutionError(\"<urllib3.connection.HTTPSConnection object at 0x00000252067FC7D0>: Failed to resolve 'huggingface.co' ([Errno 11001] getaddrinfo failed)\"))\n\nDuring handling of the above exception, another exception occurred:\n\nTraceback (most recent call last):\n  File \"c:\\PY\\bank-app-review-analysis\\venv\\Lib\\site-packages\\transformers\\pipelines\\base.py\", line 292, in infer_framework_load_model\n    model = model_class.from_pretrained(model, **kwargs)\n  File \"c:\\PY\\bank-app-review-analysis\\venv\\Lib\\site-packages\\transformers\\models\\auto\\auto_factory.py\", line 571, in from_pretrained\n    return model_class.from_pretrained(\n           ~~~~~~~~~~~~~~~~~~~~~~~~~~~^\n        pretrained_model_name_or_path, *model_args, config=config, **hub_kwargs, **kwargs\n        ^^^^^^^^^^^^^^^^^^^^^^^^^^^^^^^^^^^^^^^^^^^^^^^^^^^^^^^^^^^^^^^^^^^^^^^^^^^^^^^^^\n    )\n    ^\n  File \"c:\\PY\\bank-app-review-analysis\\venv\\Lib\\site-packages\\transformers\\modeling_utils.py\", line 309, in _wrapper\n    return func(*args, **kwargs)\n  File \"c:\\PY\\bank-app-review-analysis\\venv\\Lib\\site-packages\\transformers\\modeling_utils.py\", line 4422, in from_pretrained\n    checkpoint_files, sharded_metadata = _get_resolved_checkpoint_files(\n                                         ~~~~~~~~~~~~~~~~~~~~~~~~~~~~~~^\n        pretrained_model_name_or_path=pretrained_model_name_or_path,\n        ^^^^^^^^^^^^^^^^^^^^^^^^^^^^^^^^^^^^^^^^^^^^^^^^^^^^^^^^^^^^\n    ...<14 lines>...\n        transformers_explicit_filename=transformers_explicit_filename,\n        ^^^^^^^^^^^^^^^^^^^^^^^^^^^^^^^^^^^^^^^^^^^^^^^^^^^^^^^^^^^^^^\n    )\n    ^\n  File \"c:\\PY\\bank-app-review-analysis\\venv\\Lib\\site-packages\\transformers\\modeling_utils.py\", line 1053, in _get_resolved_checkpoint_files\n    resolved_archive_file = cached_file(\n        pretrained_model_name_or_path, filename, **cached_file_kwargs\n    )\n  File \"c:\\PY\\bank-app-review-analysis\\venv\\Lib\\site-packages\\transformers\\utils\\hub.py\", line 312, in cached_file\n    file = cached_files(path_or_repo_id=path_or_repo_id, filenames=[filename], **kwargs)\n  File \"c:\\PY\\bank-app-review-analysis\\venv\\Lib\\site-packages\\transformers\\utils\\hub.py\", line 557, in cached_files\n    raise e\n  File \"c:\\PY\\bank-app-review-analysis\\venv\\Lib\\site-packages\\transformers\\utils\\hub.py\", line 470, in cached_files\n    hf_hub_download(\n    ~~~~~~~~~~~~~~~^\n        path_or_repo_id,\n        ^^^^^^^^^^^^^^^^\n    ...<10 lines>...\n        local_files_only=local_files_only,\n        ^^^^^^^^^^^^^^^^^^^^^^^^^^^^^^^^^^\n    )\n    ^\n  File \"c:\\PY\\bank-app-review-analysis\\venv\\Lib\\site-packages\\huggingface_hub\\utils\\_validators.py\", line 114, in _inner_fn\n    return fn(*args, **kwargs)\n  File \"c:\\PY\\bank-app-review-analysis\\venv\\Lib\\site-packages\\huggingface_hub\\file_download.py\", line 1008, in hf_hub_download\n    return _hf_hub_download_to_cache_dir(\n        # Destination\n    ...<14 lines>...\n        force_download=force_download,\n    )\n  File \"c:\\PY\\bank-app-review-analysis\\venv\\Lib\\site-packages\\huggingface_hub\\file_download.py\", line 1161, in _hf_hub_download_to_cache_dir\n    _download_to_tmp_and_move(\n    ~~~~~~~~~~~~~~~~~~~~~~~~~^\n        incomplete_path=Path(blob_path + \".incomplete\"),\n        ^^^^^^^^^^^^^^^^^^^^^^^^^^^^^^^^^^^^^^^^^^^^^^^^\n    ...<8 lines>...\n        xet_file_data=xet_file_data,\n        ^^^^^^^^^^^^^^^^^^^^^^^^^^^^\n    )\n    ^\n  File \"c:\\PY\\bank-app-review-analysis\\venv\\Lib\\site-packages\\huggingface_hub\\file_download.py\", line 1725, in _download_to_tmp_and_move\n    http_get(\n    ~~~~~~~~^\n        url_to_download,\n        ^^^^^^^^^^^^^^^^\n    ...<4 lines>...\n        expected_size=expected_size,\n        ^^^^^^^^^^^^^^^^^^^^^^^^^^^^\n    )\n    ^\n  File \"c:\\PY\\bank-app-review-analysis\\venv\\Lib\\site-packages\\huggingface_hub\\file_download.py\", line 511, in http_get\n    return http_get(\n        url=url,\n    ...<6 lines>...\n        _tqdm_bar=_tqdm_bar,\n    )\n  File \"c:\\PY\\bank-app-review-analysis\\venv\\Lib\\site-packages\\huggingface_hub\\file_download.py\", line 420, in http_get\n    r = _request_wrapper(\n        method=\"GET\", url=url, stream=True, proxies=proxies, headers=headers, timeout=constants.HF_HUB_DOWNLOAD_TIMEOUT\n    )\n  File \"c:\\PY\\bank-app-review-analysis\\venv\\Lib\\site-packages\\huggingface_hub\\file_download.py\", line 309, in _request_wrapper\n    response = http_backoff(method=method, url=url, **params, retry_on_exceptions=(), retry_on_status_codes=(429,))\n  File \"c:\\PY\\bank-app-review-analysis\\venv\\Lib\\site-packages\\huggingface_hub\\utils\\_http.py\", line 310, in http_backoff\n    response = session.request(method=method, url=url, **kwargs)\n  File \"c:\\PY\\bank-app-review-analysis\\venv\\Lib\\site-packages\\requests\\sessions.py\", line 589, in request\n    resp = self.send(prep, **send_kwargs)\n  File \"c:\\PY\\bank-app-review-analysis\\venv\\Lib\\site-packages\\requests\\sessions.py\", line 703, in send\n    r = adapter.send(request, **kwargs)\n  File \"c:\\PY\\bank-app-review-analysis\\venv\\Lib\\site-packages\\huggingface_hub\\utils\\_http.py\", line 96, in send\n    return super().send(request, *args, **kwargs)\n           ~~~~~~~~~~~~^^^^^^^^^^^^^^^^^^^^^^^^^^\n  File \"c:\\PY\\bank-app-review-analysis\\venv\\Lib\\site-packages\\requests\\adapters.py\", line 700, in send\n    raise ConnectionError(e, request=request)\nrequests.exceptions.ConnectionError: (MaxRetryError('HTTPSConnectionPool(host=\\'huggingface.co\\', port=443): Max retries exceeded with url: /distilbert-base-uncased-finetuned-sst-2-english/resolve/main/pytorch_model.bin (Caused by NameResolutionError(\"<urllib3.connection.HTTPSConnection object at 0x00000252067FC7D0>: Failed to resolve \\'huggingface.co\\' ([Errno 11001] getaddrinfo failed)\"))'), '(Request ID: 6b0406c1-033d-4428-8400-845ab88e264f)')\n\nwhile loading with DistilBertForSequenceClassification, an error is thrown:\nTraceback (most recent call last):\n  File \"c:\\PY\\bank-app-review-analysis\\venv\\Lib\\site-packages\\transformers\\pipelines\\base.py\", line 292, in infer_framework_load_model\n    model = model_class.from_pretrained(model, **kwargs)\n  File \"c:\\PY\\bank-app-review-analysis\\venv\\Lib\\site-packages\\transformers\\modeling_utils.py\", line 309, in _wrapper\n    return func(*args, **kwargs)\n  File \"c:\\PY\\bank-app-review-analysis\\venv\\Lib\\site-packages\\transformers\\modeling_utils.py\", line 4422, in from_pretrained\n    checkpoint_files, sharded_metadata = _get_resolved_checkpoint_files(\n                                         ~~~~~~~~~~~~~~~~~~~~~~~~~~~~~~^\n        pretrained_model_name_or_path=pretrained_model_name_or_path,\n        ^^^^^^^^^^^^^^^^^^^^^^^^^^^^^^^^^^^^^^^^^^^^^^^^^^^^^^^^^^^^\n    ...<14 lines>...\n        transformers_explicit_filename=transformers_explicit_filename,\n        ^^^^^^^^^^^^^^^^^^^^^^^^^^^^^^^^^^^^^^^^^^^^^^^^^^^^^^^^^^^^^^\n    )\n    ^\n  File \"c:\\PY\\bank-app-review-analysis\\venv\\Lib\\site-packages\\transformers\\modeling_utils.py\", line 1127, in _get_resolved_checkpoint_files\n    raise EnvironmentError(\n    ...<3 lines>...\n    )\nOSError: distilbert-base-uncased-finetuned-sst-2-english does not appear to have a file named pytorch_model.bin, model.safetensors, tf_model.h5, model.ckpt or flax_model.msgpack.\n\n\n"
     ]
    }
   ],
   "source": [
    "from transformers import pipeline\n",
    "\n",
    "sentiment_pipeline = pipeline(\"sentiment-analysis\", model=\"distilbert-base-uncased-finetuned-sst-2-english\")\n",
    "\n",
    "def get_bert_sentiment(text):\n",
    "    result = sentiment_pipeline(text[:512])[0]\n",
    "    return result['label'], result['score']\n",
    "\n",
    "bert_results = df['review'].apply(get_bert_sentiment)\n",
    "df['bert_sentiment'], df['bert_score'] = zip(*bert_results)\n"
   ]
  },
  {
   "cell_type": "code",
   "execution_count": null,
   "id": "aa34dd2c",
   "metadata": {},
   "outputs": [],
   "source": [
    "\n",
    "sentiment_summary = df.groupby(['bank', 'rating'])[['sentiment_score', 'bert_score']].mean().reset_index()\n",
    "sentiment_summary.to_csv('../outputs/sentiment_summary.csv', index=False)\n"
   ]
  },
  {
   "cell_type": "code",
   "execution_count": null,
   "id": "301ea6e0",
   "metadata": {},
   "outputs": [],
   "source": [
    "\n",
    "def preprocess(text):\n",
    "    doc = nlp(text.lower())\n",
    "    return \" \".join([token.lemma_ for token in doc if not token.is_stop and token.is_alpha])\n",
    "\n",
    "df['cleaned_review'] = df['review'].apply(preprocess)\n"
   ]
  },
  {
   "cell_type": "code",
   "execution_count": null,
   "id": "0991ab94",
   "metadata": {},
   "outputs": [],
   "source": [
    "\n",
    "tfidf = TfidfVectorizer(stop_words='english', ngram_range=(1, 2), max_features=100)\n",
    "tfidf_matrix = tfidf.fit_transform(df['cleaned_review'])\n",
    "keywords = tfidf.get_feature_names_out()\n",
    "keywords[:20]\n"
   ]
  },
  {
   "cell_type": "code",
   "execution_count": null,
   "id": "1ae91db6",
   "metadata": {},
   "outputs": [],
   "source": [
    "\n",
    "themes = {\n",
    "    \"Transaction Issues\": [\"transaction\", \"failed\", \"deposit\", \"money\", \"transfer\"],\n",
    "    \"Login/Access\": [\"login\", \"pin\", \"reset\", \"password\"],\n",
    "    \"UI/UX\": [\"interface\", \"easy to use\", \"navigation\", \"layout\"],\n",
    "    \"Performance\": [\"crash\", \"slow\", \"freeze\", \"lag\"],\n",
    "    \"Feature Requests\": [\"add\", \"feature\", \"option\", \"support\"]\n",
    "}\n",
    "\n",
    "def assign_theme(review):\n",
    "    assigned = []\n",
    "    for theme, keywords in themes.items():\n",
    "        if any(keyword in review.lower() for keyword in keywords):\n",
    "            assigned.append(theme)\n",
    "    return assigned if assigned else [\"Other\"]\n",
    "\n",
    "df['themes'] = df['cleaned_review'].apply(assign_theme)\n"
   ]
  },
  {
   "cell_type": "code",
   "execution_count": null,
   "id": "8eb27ff9",
   "metadata": {},
   "outputs": [],
   "source": [
    "\n",
    "df[['review', 'sentiment', 'sentiment_score', 'bert_sentiment', 'bert_score', 'rating', 'bank', 'themes']]\n",
    "  .to_csv('../outputs/sentiment_output.csv', index=False)\n"
   ]
  }
 ],
 "metadata": {
  "kernelspec": {
   "display_name": "venv",
   "language": "python",
   "name": "python3"
  },
  "language_info": {
   "codemirror_mode": {
    "name": "ipython",
    "version": 3
   },
   "file_extension": ".py",
   "mimetype": "text/x-python",
   "name": "python",
   "nbconvert_exporter": "python",
   "pygments_lexer": "ipython3",
   "version": "3.13.3"
  }
 },
 "nbformat": 4,
 "nbformat_minor": 5
}
